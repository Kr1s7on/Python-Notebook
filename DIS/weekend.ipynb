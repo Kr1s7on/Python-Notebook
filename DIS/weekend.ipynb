{
 "cells": [
  {
   "cell_type": "markdown",
   "metadata": {},
   "source": [
    "## Recap and Conventions"
   ]
  },
  {
   "cell_type": "markdown",
   "metadata": {},
   "source": [
    "- 29 June '24"
   ]
  },
  {
   "cell_type": "markdown",
   "metadata": {},
   "source": [
    "### Pep Talk"
   ]
  },
  {
   "cell_type": "code",
   "execution_count": null,
   "metadata": {},
   "outputs": [],
   "source": [
    "list_of_numbers = [1, 2, 3, 4, 5, 6, 7, 8, 9, 10]\n",
    "\n",
    "def calc_sum(x, y):\n",
    "    \"\"\"Calculate sum of two numbers.\"\"\"\n",
    "    return x + y\n",
    "\n",
    "def calc_product(x, y):\n",
    "    \"\"\"Calculate product of two numbers.\"\"\"\n",
    "    return x * y\n",
    "\n",
    "def calc_difference(x, y):\n",
    "    \"\"\"Calculate difference between two numbers.\"\"\"\n",
    "    return x - y\n",
    "\n",
    "def calc_quotient(x, y):\n",
    "    \"\"\"Calculate quotient of two numbers.\"\"\"\n",
    "    if y == 0:\n",
    "        print(\"Error: Cannot divide by zero.\")  # Error message if user tries to divide by zero\n",
    "        return None\n",
    "    else:\n",
    "        return x / y\n",
    "\n",
    "# Calculate the sum of the first two numbers in the list\n",
    "total_sum = calc_sum(list_of_numbers[0], list_of_numbers[1])\n",
    "print(\"Total Sum:\", total_sum)\n",
    "\n",
    "# Calculate the product of the third and fourth numbers in the list\n",
    "total_product = calc_product(list_of_numbers[2], list_of_numbers[3])\n",
    "print(\"Total Product:\", total_product)\n",
    "\n",
    "# Calculate the difference between the fifth and sixth numbers in the list\n",
    "total_difference = calc_difference(list_of_numbers[4], list_of_numbers[5])\n",
    "print(\"Total Difference:\", total_difference)\n",
    "\n",
    "# Calculate the quotient of the seventh and eighth numbers in the list\n",
    "total_quotient = calc_quotient(list_of_numbers[6], list_of_numbers[7])\n",
    "print(\"Total Quotient:\", total_quotient)\n"
   ]
  },
  {
   "cell_type": "markdown",
   "metadata": {},
   "source": [
    "### What's Up Doc"
   ]
  },
  {
   "cell_type": "code",
   "execution_count": null,
   "metadata": {},
   "outputs": [],
   "source": [
    "# Instructions:\n",
    "    # Someone has stolen all of the function names, variables names and documentation!\n",
    "    # Understand what this code does, and restore the missing variable and function names, and the documentation.\n",
    "\n",
    "import random\n",
    "\n",
    "def mystery_function_1(size, lower_bound, upper_bound):\n",
    "    result = []\n",
    "    for _ in range(size):\n",
    "        result.append(random.randint(lower_bound, upper_bound))\n",
    "    return result\n",
    "\n",
    "def mystery_function_2(numbers):\n",
    "    even_numbers = []\n",
    "    for num in numbers:\n",
    "        if num % 2 == 0:\n",
    "            even_numbers.append(num)\n",
    "    return even_numbers\n",
    "\n",
    "def mystery_function_3(numbers):\n",
    "    mystery_list = []\n",
    "    for num in numbers:\n",
    "        if num < 2:\n",
    "            continue\n",
    "        for i in range(2, int(num ** 0.5) + 1):\n",
    "            if num % i == 0:\n",
    "                break\n",
    "        else:\n",
    "            mystery_list.append(num)\n",
    "    return mystery_list\n",
    "\n",
    "def mystery_function_4(numbers):\n",
    "    return sum(numbers)"
   ]
  },
  {
   "cell_type": "markdown",
   "metadata": {},
   "source": [
    "### It's Time"
   ]
  },
  {
   "cell_type": "code",
   "execution_count": null,
   "metadata": {},
   "outputs": [],
   "source": []
  },
  {
   "cell_type": "markdown",
   "metadata": {},
   "source": [
    "### Masterchef"
   ]
  },
  {
   "cell_type": "code",
   "execution_count": null,
   "metadata": {},
   "outputs": [],
   "source": []
  },
  {
   "cell_type": "markdown",
   "metadata": {},
   "source": [
    "## Debugging"
   ]
  }
 ],
 "metadata": {
  "kernelspec": {
   "display_name": "Python 3",
   "language": "python",
   "name": "python3"
  },
  "language_info": {
   "name": "python",
   "version": "3.12.3"
  }
 },
 "nbformat": 4,
 "nbformat_minor": 2
}
