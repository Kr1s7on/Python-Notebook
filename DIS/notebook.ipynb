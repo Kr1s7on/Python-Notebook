{
 "cells": [
  {
   "cell_type": "markdown",
   "metadata": {},
   "source": [
    "## Intro to Python\n",
    "\n",
    "#### Hello World Exercise"
   ]
  },
  {
   "cell_type": "code",
   "execution_count": 2,
   "metadata": {},
   "outputs": [
    {
     "name": "stdout",
     "output_type": "stream",
     "text": [
      "I am Kriston, turning 18 in September, fav hobby is playing basketball, I like to eat pasta and my fav show is Game of Thrones.\n"
     ]
    }
   ],
   "source": [
    "# Exercise\n",
    "# Introduce yourself in Python.\n",
    "\n",
    "# Write a program that is printing your name, your age, where you live and a bit about yourself (hobbies, favorite food, favorite movie).\n",
    "\n",
    "# Print statement\n",
    "print(\"I am Kriston, turning 18 in September, fav hobby is playing basketball, I like to eat pasta and my fav show is Game of Thrones.\")"
   ]
  },
  {
   "cell_type": "markdown",
   "metadata": {},
   "source": [
    "## Variables\n",
    "\n",
    "#### Variables Exercise"
   ]
  },
  {
   "cell_type": "code",
   "execution_count": 3,
   "metadata": {},
   "outputs": [
    {
     "name": "stdout",
     "output_type": "stream",
     "text": [
      "Your name is Kriston, you are 18 years old and your favorite color is purple.\n"
     ]
    }
   ],
   "source": [
    "# Exercise\n",
    "# Write a program that asks a user for their name, age, and favorite color, and then prints them.\n",
    "\n",
    "# Ask user for inputs\n",
    "name = input(\"Please enter your name: \")\n",
    "age = int(input(\"Please enter your age: \"))\n",
    "fav_color = input(\"Please enter your favorite color: \")\n",
    "\n",
    "# Print the inputs\n",
    "print(f\"Your name is {name}, you are {age} years old and your favorite color is {fav_color}.\")"
   ]
  },
  {
   "cell_type": "markdown",
   "metadata": {},
   "source": [
    "#### Types Exercise"
   ]
  },
  {
   "cell_type": "code",
   "execution_count": null,
   "metadata": {},
   "outputs": [],
   "source": [
    "# Exercise\n",
    "# Open the Python console.\n",
    "\n",
    "# Create a few variables with the values:\n",
    "\n",
    "# 10\n",
    "# 3.14\n",
    "# \"Python is Fun\"\n",
    "# and check their types using the type function."
   ]
  },
  {
   "cell_type": "code",
   "execution_count": 8,
   "metadata": {},
   "outputs": [
    {
     "data": {
      "text/plain": [
       "int"
      ]
     },
     "execution_count": 8,
     "metadata": {},
     "output_type": "execute_result"
    }
   ],
   "source": [
    "a = 10\n",
    "type(a)"
   ]
  },
  {
   "cell_type": "code",
   "execution_count": 9,
   "metadata": {},
   "outputs": [
    {
     "data": {
      "text/plain": [
       "float"
      ]
     },
     "execution_count": 9,
     "metadata": {},
     "output_type": "execute_result"
    }
   ],
   "source": [
    "b = 3.14\n",
    "type(b)"
   ]
  },
  {
   "cell_type": "code",
   "execution_count": 10,
   "metadata": {},
   "outputs": [
    {
     "data": {
      "text/plain": [
       "str"
      ]
     },
     "execution_count": 10,
     "metadata": {},
     "output_type": "execute_result"
    }
   ],
   "source": [
    "c = \"Python is Fun\"\n",
    "type(c)"
   ]
  },
  {
   "cell_type": "markdown",
   "metadata": {},
   "source": [
    "#### Operations Exercise"
   ]
  },
  {
   "cell_type": "code",
   "execution_count": 11,
   "metadata": {},
   "outputs": [],
   "source": [
    "# Exercise\n",
    "# Open the Python console. Check the following operations, and write what each operation do for variables of each type (fill the table)."
   ]
  },
  {
   "cell_type": "code",
   "execution_count": 12,
   "metadata": {},
   "outputs": [
    {
     "name": "stdout",
     "output_type": "stream",
     "text": [
      "6\n"
     ]
    }
   ],
   "source": [
    "x = 3 + 3\n",
    "print(x)"
   ]
  },
  {
   "cell_type": "code",
   "execution_count": 13,
   "metadata": {},
   "outputs": [
    {
     "name": "stdout",
     "output_type": "stream",
     "text": [
      "0\n"
     ]
    }
   ],
   "source": [
    "x = 3 - 3\n",
    "print(x)"
   ]
  },
  {
   "cell_type": "code",
   "execution_count": 14,
   "metadata": {},
   "outputs": [
    {
     "name": "stdout",
     "output_type": "stream",
     "text": [
      "1.0\n"
     ]
    }
   ],
   "source": [
    "x = 3 / 3\n",
    "print(x)"
   ]
  },
  {
   "cell_type": "code",
   "execution_count": 15,
   "metadata": {},
   "outputs": [
    {
     "name": "stdout",
     "output_type": "stream",
     "text": [
      "9\n"
     ]
    }
   ],
   "source": [
    "x = 3 * 3\n",
    "print(x)"
   ]
  },
  {
   "cell_type": "code",
   "execution_count": 16,
   "metadata": {},
   "outputs": [
    {
     "name": "stdout",
     "output_type": "stream",
     "text": [
      "27\n"
     ]
    }
   ],
   "source": [
    "x = 3 ** 3\n",
    "print(x)"
   ]
  },
  {
   "cell_type": "code",
   "execution_count": 17,
   "metadata": {},
   "outputs": [
    {
     "name": "stdout",
     "output_type": "stream",
     "text": [
      "0\n"
     ]
    }
   ],
   "source": [
    "x = 3 % 3\n",
    "print(x)"
   ]
  },
  {
   "cell_type": "code",
   "execution_count": 18,
   "metadata": {},
   "outputs": [
    {
     "name": "stdout",
     "output_type": "stream",
     "text": [
      "33\n"
     ]
    }
   ],
   "source": [
    "x = \"3\" + \"3\"\n",
    "print(x)"
   ]
  },
  {
   "cell_type": "code",
   "execution_count": 19,
   "metadata": {},
   "outputs": [
    {
     "ename": "TypeError",
     "evalue": "can only concatenate str (not \"int\") to str",
     "output_type": "error",
     "traceback": [
      "\u001b[1;31m---------------------------------------------------------------------------\u001b[0m",
      "\u001b[1;31mTypeError\u001b[0m                                 Traceback (most recent call last)",
      "Cell \u001b[1;32mIn[19], line 1\u001b[0m\n\u001b[1;32m----> 1\u001b[0m x \u001b[38;5;241m=\u001b[39m \u001b[38;5;124;43m\"\u001b[39;49m\u001b[38;5;124;43m3\u001b[39;49m\u001b[38;5;124;43m\"\u001b[39;49m\u001b[43m \u001b[49m\u001b[38;5;241;43m+\u001b[39;49m\u001b[43m \u001b[49m\u001b[38;5;241;43m3\u001b[39;49m\n\u001b[0;32m      2\u001b[0m \u001b[38;5;28mprint\u001b[39m(x)\n",
      "\u001b[1;31mTypeError\u001b[0m: can only concatenate str (not \"int\") to str"
     ]
    }
   ],
   "source": [
    "x = \"3\" + 3\n",
    "print(x)"
   ]
  },
  {
   "cell_type": "code",
   "execution_count": 20,
   "metadata": {},
   "outputs": [
    {
     "ename": "TypeError",
     "evalue": "can't multiply sequence by non-int of type 'str'",
     "output_type": "error",
     "traceback": [
      "\u001b[1;31m---------------------------------------------------------------------------\u001b[0m",
      "\u001b[1;31mTypeError\u001b[0m                                 Traceback (most recent call last)",
      "Cell \u001b[1;32mIn[20], line 1\u001b[0m\n\u001b[1;32m----> 1\u001b[0m x \u001b[38;5;241m=\u001b[39m \u001b[38;5;124;43m\"\u001b[39;49m\u001b[38;5;124;43m3\u001b[39;49m\u001b[38;5;124;43m\"\u001b[39;49m\u001b[43m \u001b[49m\u001b[38;5;241;43m*\u001b[39;49m\u001b[43m \u001b[49m\u001b[38;5;124;43m\"\u001b[39;49m\u001b[38;5;124;43m3\u001b[39;49m\u001b[38;5;124;43m\"\u001b[39;49m\n\u001b[0;32m      2\u001b[0m \u001b[38;5;28mprint\u001b[39m(x)\n",
      "\u001b[1;31mTypeError\u001b[0m: can't multiply sequence by non-int of type 'str'"
     ]
    }
   ],
   "source": [
    "x = \"3\" * \"3\"\n",
    "print(x)"
   ]
  },
  {
   "cell_type": "code",
   "execution_count": 22,
   "metadata": {},
   "outputs": [
    {
     "name": "stdout",
     "output_type": "stream",
     "text": [
      "333\n"
     ]
    }
   ],
   "source": [
    "x = \"3\" * 3\n",
    "print(x)"
   ]
  },
  {
   "cell_type": "markdown",
   "metadata": {},
   "source": [
    "#### Casting Exercise"
   ]
  },
  {
   "cell_type": "code",
   "execution_count": 23,
   "metadata": {},
   "outputs": [
    {
     "name": "stdout",
     "output_type": "stream",
     "text": [
      "Find out your age in 5 years!\n",
      "\n",
      "\n",
      "You will be 23 in 5 years!\n"
     ]
    }
   ],
   "source": [
    "# Exercise\n",
    "# Write a program that asks a user for their age, and then prints their age five years from now. For example: if my age now is 29, the answer will be 34.\n",
    "\n",
    "print(\"Find out your age in 5 years!\\n\")\n",
    "# Ask user for input\n",
    "age = int(input(\"Please enter your age: \"))\n",
    "\n",
    "AgeIn5Years = age + 5\n",
    "\n",
    "print(f\"You will be {AgeIn5Years} in 5 years!\")"
   ]
  },
  {
   "cell_type": "markdown",
   "metadata": {},
   "source": [
    "#### Swap Exercise"
   ]
  },
  {
   "cell_type": "code",
   "execution_count": 28,
   "metadata": {},
   "outputs": [
    {
     "name": "stdout",
     "output_type": "stream",
     "text": [
      "Guido's orb: sapphire\n",
      "Rosum's orb: ruby\n"
     ]
    }
   ],
   "source": [
    "# Your task\n",
    "# Initialize 2 variables - guidos_orb = \"ruby\" and rosums_orb = \"sapphire\".\n",
    "# Do your magic - swap their values.\n",
    "# Print the values of the 2 orbs both before and after the swap.\n",
    "# Bonus - for extra wow effect, do it in a single line!\n",
    "\n",
    "guidos_orb = \"ruby\"\n",
    "rosums_orb = \"sapphire\"\n",
    "\n",
    "guidos_orb, rosums_orb = rosums_orb, guidos_orb\n",
    "\n",
    "print(f\"Guido's orb: {guidos_orb}\")\n",
    "print(f\"Rosum's orb: {rosums_orb}\")"
   ]
  },
  {
   "cell_type": "markdown",
   "metadata": {},
   "source": [
    "#### Temperature Exercise"
   ]
  },
  {
   "cell_type": "code",
   "execution_count": 32,
   "metadata": {},
   "outputs": [
    {
     "name": "stdout",
     "output_type": "stream",
     "text": [
      "The temperature in Celsius is 37.8 degrees.\n"
     ]
    }
   ],
   "source": [
    "# Your task\n",
    "# Create a Python script that converts a temperature from Fahrenheit to Celsius.\n",
    "\n",
    "# Prompt for Fahrenheit Input: Ask the user to enter a temperature in Fahrenheit.\n",
    "\n",
    "# Convert to Celsius: Calculate the Celsius equivalent using the formula C = (F - 32) * (5/9), where C is the temperature in Celsius and F is the temperature in Fahrenheit.\n",
    "\n",
    "# Display the Result: Print the converted temperature in Celsius.\n",
    "\n",
    "# Make sure you can handle non-whole values of temperature.\n",
    "\n",
    "# Ask user for input\n",
    "far = float(input(\"Enter the temperature in Fahrenheit: \"))\n",
    "\n",
    "# Convert to Celsius\n",
    "cels = (far - 32) * (5/9)\n",
    "\n",
    "# Print the converted temperature\n",
    "print(f\"The temperature in Celsius is {cels:.1f} degrees.\")"
   ]
  },
  {
   "cell_type": "markdown",
   "metadata": {},
   "source": [
    "## Flow Control\n",
    "\n",
    "#### Boolean Challenge!"
   ]
  },
  {
   "cell_type": "code",
   "execution_count": 37,
   "metadata": {},
   "outputs": [
    {
     "data": {
      "text/plain": [
       "True"
      ]
     },
     "execution_count": 37,
     "metadata": {},
     "output_type": "execute_result"
    }
   ],
   "source": [
    " ((not False) or (not True)) and (not (False or False))"
   ]
  },
  {
   "cell_type": "markdown",
   "metadata": {},
   "source": [
    "#### Conditions Exercise"
   ]
  },
  {
   "cell_type": "code",
   "execution_count": 46,
   "metadata": {},
   "outputs": [
    {
     "name": "stdout",
     "output_type": "stream",
     "text": [
      "Sorry, I don't speak this language\n"
     ]
    }
   ],
   "source": [
    "# Ask user for inputs\n",
    "name = str(input(\"Enter your name: \"))\n",
    "lang = str(input(\"Enter your preferred language(English, Italian, French, Spanish, German): \"))\n",
    "\n",
    "if lang == \"English\":\n",
    "    print(f\"Hello {name}!\")\n",
    "\n",
    "elif lang == \"Italian\":\n",
    "    print(f\"Ciao {name}!\")\n",
    "\n",
    "elif lang == \"French\":\n",
    "    print(f\"Bonjour {name}!\")\n",
    "\n",
    "elif lang == \"Spanish\":\n",
    "    print(f\"¡Hola {name}!\")\n",
    "    \n",
    "elif lang == \"German\":\n",
    "    print(f\"Hallo {name}!\")\n",
    "\n",
    "else:\n",
    "    print(\"Sorry, I don't speak this language\")"
   ]
  },
  {
   "cell_type": "markdown",
   "metadata": {},
   "source": [
    "#### Boolean Exercise"
   ]
  },
  {
   "cell_type": "code",
   "execution_count": 50,
   "metadata": {},
   "outputs": [
    {
     "name": "stdout",
     "output_type": "stream",
     "text": [
      "Good night, Kr!\n"
     ]
    }
   ],
   "source": [
    "# Exercise\n",
    "# Write a code that gets the user’s name, and the hour now (only the hour, from 0-23. For example: 15, for 15:00PM).\n",
    "\n",
    "# If it is morning, it will greet the user “Good morning!”.\n",
    "# If it’s noon, it will greet the user “Good day!”.\n",
    "# In the afternoon, the greeting will be “Good afternoon!”.\n",
    "# In the evening, the greeting will be “Good evening!”.\n",
    "# And finally, in the night, it will greet “Good night!”.\n",
    "# Morning is considered from 6:00 to 9:00.\n",
    "# Noon is considered from 10:00 to 11:59\n",
    "# Afternoon is considered from 12:00 to 16:59.\n",
    "# Evening is considered from 17:00 to 19:59.\n",
    "# Night is considered from 20:00 to 5:59. \n",
    "\n",
    "# Ask user for inputs\n",
    "name = str(input(\"Enter your name: \"))\n",
    "hour = int(input(\"Enter the current hour (0-23): \"))\n",
    "\n",
    "# Time of day\n",
    "if 6 <= hour <= 11:\n",
    "    print(f\"Good morning, {name}!\")\n",
    "elif 10 <= hour <= 11:\n",
    "    print(f\"Good day, {name}!\")\n",
    "elif 12 <= hour <= 16:\n",
    "    print(f\"Good afternoon, {name}!\")\n",
    "elif 17 <= hour <= 20:\n",
    "    print(f\"Good evening, {name}!\")\n",
    "else:\n",
    "    print(f\"Good night, {name}!\")"
   ]
  },
  {
   "cell_type": "markdown",
   "metadata": {},
   "source": [
    "#### Division Bell Exercise"
   ]
  },
  {
   "cell_type": "code",
   "execution_count": 52,
   "metadata": {},
   "outputs": [
    {
     "name": "stdout",
     "output_type": "stream",
     "text": [
      "31 doesn't divide by 7. The remainder is 3.\n"
     ]
    }
   ],
   "source": [
    "# Exercise\n",
    "# Write a code that gets from the user the number of days in the month, and an additional number (x).\n",
    "\n",
    "# The code will print whether the number of days in the month divides by x.\n",
    "\n",
    "# If it doesn't divide by x, it will print the remainder.\n",
    "\n",
    "# Example Output\n",
    "\n",
    "# Example 1:\n",
    "# Enter the number of days in the month: 30\n",
    "# Enter the number x: 6\n",
    "# 30 divides by 6.\n",
    "\n",
    "# Example 2:\n",
    "# Enter the number of days in the month: 31\n",
    "# Enter the number x: 7\n",
    "# 31 doesn't divide by 7. The remainder is 3.\n",
    "\n",
    "# User Inputs\n",
    "month_day = int(input(\"Enter the number of days in the month: \"))\n",
    "x = int(input(\"Enter the number x: \"))\n",
    "\n",
    "# Check if month_day divides by x\n",
    "if month_day % x == 0:\n",
    "    print(f\"{month_day} divides by {x}\")\n",
    "else:\n",
    "    print(f\"{month_day} doesn't divide by {x}. The remainder is {month_day % x}.\")"
   ]
  },
  {
   "cell_type": "markdown",
   "metadata": {},
   "source": [
    "#### Calc Exercise"
   ]
  },
  {
   "cell_type": "code",
   "execution_count": 58,
   "metadata": {},
   "outputs": [
    {
     "name": "stdout",
     "output_type": "stream",
     "text": [
      "Welcome to the Command Line Calculator!\n",
      "Result: 1.0 + 3.0 = 4.0\n"
     ]
    }
   ],
   "source": [
    "# Instructions\n",
    "# Start the Program:\n",
    "    # Display a welcome message to the user.\n",
    "\n",
    "# User Input:\n",
    "    # Prompt the user to enter an operation (addition, subtraction, multiplication, division).\n",
    "    # Ask the user to enter two numbers for the calculation.\n",
    "\n",
    "# Perform Calculations:\n",
    "    # Based on the operation entered by the user, perform the corresponding arithmetic operation on the two numbers.\n",
    "    # Use if-elif-else statements to determine the operation.\n",
    "    # Implement error handling for division by zero and invalid operation inputs.\n",
    "\n",
    "# Display the Result:\n",
    "    # Print the result of the calculation to the console.\n",
    "\n",
    "# Bonus Tasks\n",
    "    # Implement more oprations - power and square root.\n",
    "\n",
    "# Example Output\n",
    "    # Welcome to the Command Line Calculator!\n",
    "    # Enter operation (add, subtract, multiply, divide): add\n",
    "    # Enter the first number: 5\n",
    "    # Enter the second number: 3\n",
    "    # Result: 5 + 3 = 8\n",
    "    # Goodbye!\n",
    "\n",
    "# Welcome message\n",
    "print(\"Welcome to the Command Line Calculator!\")\n",
    "\n",
    "# User inputs\n",
    "opr = str(input(\"Enter operation (add, subtract, multiply, divide, power): \"))\n",
    "uno = float(input(\"Enter the first number: \"))\n",
    "dos = float(input(\"Enter the second number: \"))\n",
    "\n",
    "# Perform calculations\n",
    "if opr == \"add\":    # Addition\n",
    "    result = uno + dos\n",
    "    print(f\"Result: {uno} + {dos} = {result}\")\n",
    "\n",
    "elif opr == \"subtract\":    # subtraction\n",
    "    result = uno - dos\n",
    "    print(f\"Result: {uno} - {dos} = {result}\")\n",
    "\n",
    "elif opr == \"multiply\":    # multiplication\n",
    "    result = uno - dos\n",
    "    print(f\"Result: {uno} * {dos} = {result}\")\n",
    "\n",
    "elif opr == \"divide\":    # division\n",
    "    result = uno / dos\n",
    "    print(f\"Result: {uno} / {dos} = {result}\")\n",
    "\n",
    "elif opr == \"power\":    # power\n",
    "    result = uno ** dos\n",
    "    print(f\"Result: {uno} ** {dos} = {result}\")\n",
    "\n",
    "else:\n",
    "    print(\"Invalid operation\")"
   ]
  },
  {
   "cell_type": "markdown",
   "metadata": {},
   "source": [
    "#### The Quest Exercise"
   ]
  },
  {
   "cell_type": "code",
   "execution_count": 62,
   "metadata": {},
   "outputs": [
    {
     "name": "stdout",
     "output_type": "stream",
     "text": [
      "Invalid choice\n",
      "You walk near the dragon and try to steal the treasure. The dragon wakes up and eats you.\n",
      "YOU DIED!\n"
     ]
    }
   ],
   "source": [
    "# The Quest\n",
    "# Create a text-based adventure game where the player navigates through a series of choices leading to different outcomes. The goal is to find the mythical Pythonic Amulet.\n",
    "\n",
    "# Instructions\n",
    "# Start the Adventure:\n",
    "    # Display an introduction to the story. Set the scene where the player stands at the entrance of a mysterious forest.\n",
    "\n",
    "# Initial Choice:\n",
    "    # Ask the player if they want to enter the forest or set up camp and wait until morning. Use an input() statement to capture the decision.\n",
    "    # Implement an if-elif-else structure to process the decision:\n",
    "    # If the player enters the forest, they encounter a fork in the path.\n",
    "    # If they wait, introduce a twist that forces them into the forest by morning.\n",
    "\n",
    "# Fork in the Path:\n",
    "    # Present the player with two paths: left leads to a river, and right leads to a dark cave.\n",
    "    # Use nested if-elif-else statements to handle the player's choice:\n",
    "    # If they go left, they must find a way to cross the river.\n",
    "    # If they go right, they encounter a sleeping dragon.\n",
    "\n",
    "# Encounters:\n",
    "    # For each encounter, present the player with options on how to proceed and use if-elif-else statements to determine the outcome. For example:\n",
    "    # At the river, choosing to swim might lead to finding a hidden underwater passage, while building a raft might safely get them across.\n",
    "    # In the cave, trying to steal treasure from the dragon could end badly, but quietly exploring might reveal the hidden Pythonic Amulet.\n",
    "\n",
    "# Conclusion:\n",
    "    # Based on the decisions made, lead the player to different endings. Finding the amulet wins the game, but there are many other outcomes based on the choices made throughout the adventure - some good, some bad.\n",
    "\n",
    "# Tips\n",
    "    # Use clear and descriptive text to immerse the player in the adventure.\n",
    "    # Ensure each if-elif-else block has a default else case to handle unexpected inputs.\n",
    "    # Encourage the player to play again with different choices to discover all possible outcomes.\n",
    "    # Be creative - write your own adventure!\n",
    "\n",
    "# Example Output\n",
    "    # Welcome to the Quest for the Pythonic Amulet. You stand at the edge of a dark forest. Do you enter or wait until morning? (enter/wait): enter\n",
    "\n",
    "    # You've entered the forest and come to a fork in the path. Do you go left towards the river or right towards the cave? (left/right): left\n",
    "\n",
    "    # At the river, do you attempt to swim across or build a raft? (swim/build): swim\n",
    "\n",
    "    # Diving into the river, you discover an underwater passage leading to a hidden chamber...\n",
    "\n",
    "    # Congratulations! Inside the chamber, you find the Pythonic Amulet. You have won the game!\n",
    "\n",
    "# Welcome message\n",
    "welc = str(input(\"Welcome to the Quest for the Pythonic Amulet. You stand at the edge of a dark forest. Do you enter or wait until morning? (enter/wait): \"))\n",
    "\n",
    "# Initial choice\n",
    "if welc == \"enter\":\n",
    "    encounter1 = str(input(\"You've entered the forest and come to a fork in the path. Do you go left towards the river or right towards the cave? (left/right): \"))\n",
    "elif welc == \"wait\":\n",
    "    encounter1 = str(input(\"You fell asleep, and when you wake up, you feel so compelled to enter the forest.\\nYou've entered the forest and come to a fork in the path. Do you go left towards the river or right towards the cave? (left/right):\"))\n",
    "else:\n",
    "    print(\"Invalid choice\")\n",
    "\n",
    "# Fork in the path\n",
    "if encounter1 == \"left\":\n",
    "    encounter2a = str(input(\"At the river, do you attempt to swim across or build a raft? (swim/build): \"))\n",
    "elif encounter1 == \"right\":\n",
    "    encounter2b = str(input(\"In the cave, you encounter a sleeping dragon. Do you try to steal treasure or explore quietly? (steal/explore): \"))\n",
    "else:\n",
    "    print(\"Invalid choice\")\n",
    "\n",
    "# River encounter\n",
    "if encounter2a == \"swim\":\n",
    "    print(\"Diving into the river, you discover an underwater passage leading to a hidden chamber...\\nCongratulations! Inside the chamber, you find the Pythonic Amulet. You have won the game!\")\n",
    "elif encounter2a == \"build\":\n",
    "    print(\"You safely cross the river on your raft and you see something just in the distance...\\nCongratulations! Inside the chamber, you find the Pythonic Amulet. You have won the game!\")\n",
    "else:\n",
    "    print(\"Invalid choice\")\n",
    "\n",
    "# Cave encounter\n",
    "if encounter2b == \"steal\":\n",
    "    print(\"You walk near the dragon and try to steal the treasure. The dragon wakes up and eats you.\\nYOU DIED!\")\n",
    "elif encounter2b == \"explore\":\n",
    "    print(\"You quietly explore the cave and find a hidden passage.\\nCongratulations! Venturi, you find the Pythonic Amulet. You have won the game!\")\n",
    "else:\n",
    "    print(\"Invalid choice\")"
   ]
  }
 ],
 "metadata": {
  "kernelspec": {
   "display_name": "Python 3",
   "language": "python",
   "name": "python3"
  },
  "language_info": {
   "codemirror_mode": {
    "name": "ipython",
    "version": 3
   },
   "file_extension": ".py",
   "mimetype": "text/x-python",
   "name": "python",
   "nbconvert_exporter": "python",
   "pygments_lexer": "ipython3",
   "version": "3.12.3"
  }
 },
 "nbformat": 4,
 "nbformat_minor": 2
}
