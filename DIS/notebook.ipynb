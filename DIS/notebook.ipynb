{
 "cells": [
  {
   "cell_type": "markdown",
   "metadata": {},
   "source": [
    "## Intro to Python\n",
    "\n",
    "#### Hello World Exercise"
   ]
  },
  {
   "cell_type": "code",
   "execution_count": 2,
   "metadata": {},
   "outputs": [
    {
     "name": "stdout",
     "output_type": "stream",
     "text": [
      "I am Kriston, turning 18 in September, fav hobby is playing basketball, I like to eat pasta and my fav show is Game of Thrones.\n"
     ]
    }
   ],
   "source": [
    "# Exercise\n",
    "# Introduce yourself in Python.\n",
    "\n",
    "# Write a program that is printing your name, your age, where you live and a bit about yourself (hobbies, favorite food, favorite movie).\n",
    "\n",
    "# Print statement\n",
    "print(\"I am Kriston, turning 18 in September, fav hobby is playing basketball, I like to eat pasta and my fav show is Game of Thrones.\")"
   ]
  },
  {
   "cell_type": "markdown",
   "metadata": {},
   "source": [
    "## Variables\n",
    "\n",
    "#### Variables Exercise"
   ]
  },
  {
   "cell_type": "code",
   "execution_count": 3,
   "metadata": {},
   "outputs": [
    {
     "name": "stdout",
     "output_type": "stream",
     "text": [
      "Your name is Kriston, you are 18 years old and your favorite color is purple.\n"
     ]
    }
   ],
   "source": [
    "# Exercise\n",
    "# Write a program that asks a user for their name, age, and favorite color, and then prints them.\n",
    "\n",
    "# Ask user for inputs\n",
    "name = input(\"Please enter your name: \")\n",
    "age = int(input(\"Please enter your age: \"))\n",
    "fav_color = input(\"Please enter your favorite color: \")\n",
    "\n",
    "# Print the inputs\n",
    "print(f\"Your name is {name}, you are {age} years old and your favorite color is {fav_color}.\")"
   ]
  },
  {
   "cell_type": "markdown",
   "metadata": {},
   "source": [
    "#### Types Exercise"
   ]
  },
  {
   "cell_type": "code",
   "execution_count": null,
   "metadata": {},
   "outputs": [],
   "source": [
    "# Exercise\n",
    "# Open the Python console.\n",
    "\n",
    "# Create a few variables with the values:\n",
    "\n",
    "# 10\n",
    "# 3.14\n",
    "# \"Python is Fun\"\n",
    "# and check their types using the type function."
   ]
  },
  {
   "cell_type": "code",
   "execution_count": 8,
   "metadata": {},
   "outputs": [
    {
     "data": {
      "text/plain": [
       "int"
      ]
     },
     "execution_count": 8,
     "metadata": {},
     "output_type": "execute_result"
    }
   ],
   "source": [
    "a = 10\n",
    "type(a)"
   ]
  },
  {
   "cell_type": "code",
   "execution_count": 9,
   "metadata": {},
   "outputs": [
    {
     "data": {
      "text/plain": [
       "float"
      ]
     },
     "execution_count": 9,
     "metadata": {},
     "output_type": "execute_result"
    }
   ],
   "source": [
    "b = 3.14\n",
    "type(b)"
   ]
  },
  {
   "cell_type": "code",
   "execution_count": 10,
   "metadata": {},
   "outputs": [
    {
     "data": {
      "text/plain": [
       "str"
      ]
     },
     "execution_count": 10,
     "metadata": {},
     "output_type": "execute_result"
    }
   ],
   "source": [
    "c = \"Python is Fun\"\n",
    "type(c)"
   ]
  },
  {
   "cell_type": "markdown",
   "metadata": {},
   "source": [
    "#### Operations Exercise"
   ]
  },
  {
   "cell_type": "code",
   "execution_count": 11,
   "metadata": {},
   "outputs": [],
   "source": [
    "# Exercise\n",
    "# Open the Python console. Check the following operations, and write what each operation do for variables of each type (fill the table)."
   ]
  },
  {
   "cell_type": "code",
   "execution_count": 12,
   "metadata": {},
   "outputs": [
    {
     "name": "stdout",
     "output_type": "stream",
     "text": [
      "6\n"
     ]
    }
   ],
   "source": [
    "x = 3 + 3\n",
    "print(x)"
   ]
  },
  {
   "cell_type": "code",
   "execution_count": 13,
   "metadata": {},
   "outputs": [
    {
     "name": "stdout",
     "output_type": "stream",
     "text": [
      "0\n"
     ]
    }
   ],
   "source": [
    "x = 3 - 3\n",
    "print(x)"
   ]
  },
  {
   "cell_type": "code",
   "execution_count": 14,
   "metadata": {},
   "outputs": [
    {
     "name": "stdout",
     "output_type": "stream",
     "text": [
      "1.0\n"
     ]
    }
   ],
   "source": [
    "x = 3 / 3\n",
    "print(x)"
   ]
  },
  {
   "cell_type": "code",
   "execution_count": 15,
   "metadata": {},
   "outputs": [
    {
     "name": "stdout",
     "output_type": "stream",
     "text": [
      "9\n"
     ]
    }
   ],
   "source": [
    "x = 3 * 3\n",
    "print(x)"
   ]
  },
  {
   "cell_type": "code",
   "execution_count": 16,
   "metadata": {},
   "outputs": [
    {
     "name": "stdout",
     "output_type": "stream",
     "text": [
      "27\n"
     ]
    }
   ],
   "source": [
    "x = 3 ** 3\n",
    "print(x)"
   ]
  },
  {
   "cell_type": "code",
   "execution_count": 17,
   "metadata": {},
   "outputs": [
    {
     "name": "stdout",
     "output_type": "stream",
     "text": [
      "0\n"
     ]
    }
   ],
   "source": [
    "x = 3 % 3\n",
    "print(x)"
   ]
  },
  {
   "cell_type": "code",
   "execution_count": 18,
   "metadata": {},
   "outputs": [
    {
     "name": "stdout",
     "output_type": "stream",
     "text": [
      "33\n"
     ]
    }
   ],
   "source": [
    "x = \"3\" + \"3\"\n",
    "print(x)"
   ]
  },
  {
   "cell_type": "code",
   "execution_count": 19,
   "metadata": {},
   "outputs": [
    {
     "ename": "TypeError",
     "evalue": "can only concatenate str (not \"int\") to str",
     "output_type": "error",
     "traceback": [
      "\u001b[1;31m---------------------------------------------------------------------------\u001b[0m",
      "\u001b[1;31mTypeError\u001b[0m                                 Traceback (most recent call last)",
      "Cell \u001b[1;32mIn[19], line 1\u001b[0m\n\u001b[1;32m----> 1\u001b[0m x \u001b[38;5;241m=\u001b[39m \u001b[38;5;124;43m\"\u001b[39;49m\u001b[38;5;124;43m3\u001b[39;49m\u001b[38;5;124;43m\"\u001b[39;49m\u001b[43m \u001b[49m\u001b[38;5;241;43m+\u001b[39;49m\u001b[43m \u001b[49m\u001b[38;5;241;43m3\u001b[39;49m\n\u001b[0;32m      2\u001b[0m \u001b[38;5;28mprint\u001b[39m(x)\n",
      "\u001b[1;31mTypeError\u001b[0m: can only concatenate str (not \"int\") to str"
     ]
    }
   ],
   "source": [
    "x = \"3\" + 3\n",
    "print(x)"
   ]
  },
  {
   "cell_type": "code",
   "execution_count": 20,
   "metadata": {},
   "outputs": [
    {
     "ename": "TypeError",
     "evalue": "can't multiply sequence by non-int of type 'str'",
     "output_type": "error",
     "traceback": [
      "\u001b[1;31m---------------------------------------------------------------------------\u001b[0m",
      "\u001b[1;31mTypeError\u001b[0m                                 Traceback (most recent call last)",
      "Cell \u001b[1;32mIn[20], line 1\u001b[0m\n\u001b[1;32m----> 1\u001b[0m x \u001b[38;5;241m=\u001b[39m \u001b[38;5;124;43m\"\u001b[39;49m\u001b[38;5;124;43m3\u001b[39;49m\u001b[38;5;124;43m\"\u001b[39;49m\u001b[43m \u001b[49m\u001b[38;5;241;43m*\u001b[39;49m\u001b[43m \u001b[49m\u001b[38;5;124;43m\"\u001b[39;49m\u001b[38;5;124;43m3\u001b[39;49m\u001b[38;5;124;43m\"\u001b[39;49m\n\u001b[0;32m      2\u001b[0m \u001b[38;5;28mprint\u001b[39m(x)\n",
      "\u001b[1;31mTypeError\u001b[0m: can't multiply sequence by non-int of type 'str'"
     ]
    }
   ],
   "source": [
    "x = \"3\" * \"3\"\n",
    "print(x)"
   ]
  },
  {
   "cell_type": "code",
   "execution_count": 22,
   "metadata": {},
   "outputs": [
    {
     "name": "stdout",
     "output_type": "stream",
     "text": [
      "333\n"
     ]
    }
   ],
   "source": [
    "x = \"3\" * 3\n",
    "print(x)"
   ]
  },
  {
   "cell_type": "markdown",
   "metadata": {},
   "source": [
    "#### Casting Exercise"
   ]
  },
  {
   "cell_type": "code",
   "execution_count": 23,
   "metadata": {},
   "outputs": [
    {
     "name": "stdout",
     "output_type": "stream",
     "text": [
      "Find out your age in 5 years!\n",
      "\n",
      "\n",
      "You will be 23 in 5 years!\n"
     ]
    }
   ],
   "source": [
    "# Exercise\n",
    "# Write a program that asks a user for their age, and then prints their age five years from now. For example: if my age now is 29, the answer will be 34.\n",
    "\n",
    "print(\"Find out your age in 5 years!\\n\")\n",
    "# Ask user for input\n",
    "age = int(input(\"Please enter your age: \"))\n",
    "\n",
    "AgeIn5Years = age + 5\n",
    "\n",
    "print(f\"You will be {AgeIn5Years} in 5 years!\")"
   ]
  },
  {
   "cell_type": "markdown",
   "metadata": {},
   "source": [
    "#### Swap Exercise"
   ]
  },
  {
   "cell_type": "code",
   "execution_count": 28,
   "metadata": {},
   "outputs": [
    {
     "name": "stdout",
     "output_type": "stream",
     "text": [
      "Guido's orb: sapphire\n",
      "Rosum's orb: ruby\n"
     ]
    }
   ],
   "source": [
    "# Your task\n",
    "# Initialize 2 variables - guidos_orb = \"ruby\" and rosums_orb = \"sapphire\".\n",
    "# Do your magic - swap their values.\n",
    "# Print the values of the 2 orbs both before and after the swap.\n",
    "# Bonus - for extra wow effect, do it in a single line!\n",
    "\n",
    "guidos_orb = \"ruby\"\n",
    "rosums_orb = \"sapphire\"\n",
    "\n",
    "guidos_orb, rosums_orb = rosums_orb, guidos_orb\n",
    "\n",
    "print(f\"Guido's orb: {guidos_orb}\")\n",
    "print(f\"Rosum's orb: {rosums_orb}\")"
   ]
  },
  {
   "cell_type": "markdown",
   "metadata": {},
   "source": [
    "#### Temperature Exercise"
   ]
  },
  {
   "cell_type": "code",
   "execution_count": 32,
   "metadata": {},
   "outputs": [
    {
     "name": "stdout",
     "output_type": "stream",
     "text": [
      "The temperature in Celsius is 37.8 degrees.\n"
     ]
    }
   ],
   "source": [
    "# Your task\n",
    "# Create a Python script that converts a temperature from Fahrenheit to Celsius.\n",
    "\n",
    "# Prompt for Fahrenheit Input: Ask the user to enter a temperature in Fahrenheit.\n",
    "\n",
    "# Convert to Celsius: Calculate the Celsius equivalent using the formula C = (F - 32) * (5/9), where C is the temperature in Celsius and F is the temperature in Fahrenheit.\n",
    "\n",
    "# Display the Result: Print the converted temperature in Celsius.\n",
    "\n",
    "# Make sure you can handle non-whole values of temperature.\n",
    "\n",
    "# Ask user for input\n",
    "far = float(input(\"Enter the temperature in Fahrenheit: \"))\n",
    "\n",
    "# Convert to Celsius\n",
    "cels = (far - 32) * (5/9)\n",
    "\n",
    "# Print the converted temperature\n",
    "print(f\"The temperature in Celsius is {cels:.1f} degrees.\")"
   ]
  },
  {
   "cell_type": "markdown",
   "metadata": {},
   "source": [
    "## Flow Control\n",
    "\n",
    "#### Boolean Challenge!"
   ]
  },
  {
   "cell_type": "code",
   "execution_count": 37,
   "metadata": {},
   "outputs": [
    {
     "data": {
      "text/plain": [
       "True"
      ]
     },
     "execution_count": 37,
     "metadata": {},
     "output_type": "execute_result"
    }
   ],
   "source": [
    " ((not False) or (not True)) and (not (False or False))"
   ]
  },
  {
   "cell_type": "markdown",
   "metadata": {},
   "source": [
    "#### Conditions Exercise"
   ]
  },
  {
   "cell_type": "code",
   "execution_count": 46,
   "metadata": {},
   "outputs": [
    {
     "name": "stdout",
     "output_type": "stream",
     "text": [
      "Sorry, I don't speak this language\n"
     ]
    }
   ],
   "source": [
    "# Ask user for inputs\n",
    "name = str(input(\"Enter your name: \"))\n",
    "lang = str(input(\"Enter your preferred language(English, Italian, French, Spanish, German): \"))\n",
    "\n",
    "if lang == \"English\":\n",
    "    print(f\"Hello {name}!\")\n",
    "\n",
    "elif lang == \"Italian\":\n",
    "    print(f\"Ciao {name}!\")\n",
    "\n",
    "elif lang == \"French\":\n",
    "    print(f\"Bonjour {name}!\")\n",
    "\n",
    "elif lang == \"Spanish\":\n",
    "    print(f\"¡Hola {name}!\")\n",
    "    \n",
    "elif lang == \"German\":\n",
    "    print(f\"Hallo {name}!\")\n",
    "\n",
    "else:\n",
    "    print(\"Sorry, I don't speak this language\")"
   ]
  },
  {
   "cell_type": "markdown",
   "metadata": {},
   "source": [
    "#### Boolean Exercise"
   ]
  },
  {
   "cell_type": "code",
   "execution_count": 50,
   "metadata": {},
   "outputs": [
    {
     "name": "stdout",
     "output_type": "stream",
     "text": [
      "Good night, Kr!\n"
     ]
    }
   ],
   "source": [
    "# Exercise\n",
    "# Write a code that gets the user’s name, and the hour now (only the hour, from 0-23. For example: 15, for 15:00PM).\n",
    "\n",
    "# If it is morning, it will greet the user “Good morning!”.\n",
    "# If it’s noon, it will greet the user “Good day!”.\n",
    "# In the afternoon, the greeting will be “Good afternoon!”.\n",
    "# In the evening, the greeting will be “Good evening!”.\n",
    "# And finally, in the night, it will greet “Good night!”.\n",
    "# Morning is considered from 6:00 to 9:00.\n",
    "# Noon is considered from 10:00 to 11:59\n",
    "# Afternoon is considered from 12:00 to 16:59.\n",
    "# Evening is considered from 17:00 to 19:59.\n",
    "# Night is considered from 20:00 to 5:59. \n",
    "\n",
    "# Ask user for inputs\n",
    "name = str(input(\"Enter your name: \"))\n",
    "hour = int(input(\"Enter the current hour (0-23): \"))\n",
    "\n",
    "# Time of day\n",
    "if 6 <= hour <= 11:\n",
    "    print(f\"Good morning, {name}!\")\n",
    "elif 10 <= hour <= 11:\n",
    "    print(f\"Good day, {name}!\")\n",
    "elif 12 <= hour <= 16:\n",
    "    print(f\"Good afternoon, {name}!\")\n",
    "elif 17 <= hour <= 20:\n",
    "    print(f\"Good evening, {name}!\")\n",
    "else:\n",
    "    print(f\"Good night, {name}!\")"
   ]
  },
  {
   "cell_type": "markdown",
   "metadata": {},
   "source": [
    "#### Division Bell Exercise"
   ]
  },
  {
   "cell_type": "code",
   "execution_count": 52,
   "metadata": {},
   "outputs": [
    {
     "name": "stdout",
     "output_type": "stream",
     "text": [
      "31 doesn't divide by 7. The remainder is 3.\n"
     ]
    }
   ],
   "source": [
    "# Exercise\n",
    "# Write a code that gets from the user the number of days in the month, and an additional number (x).\n",
    "\n",
    "# The code will print whether the number of days in the month divides by x.\n",
    "\n",
    "# If it doesn't divide by x, it will print the remainder.\n",
    "\n",
    "# Example Output\n",
    "\n",
    "# Example 1:\n",
    "# Enter the number of days in the month: 30\n",
    "# Enter the number x: 6\n",
    "# 30 divides by 6.\n",
    "\n",
    "# Example 2:\n",
    "# Enter the number of days in the month: 31\n",
    "# Enter the number x: 7\n",
    "# 31 doesn't divide by 7. The remainder is 3.\n",
    "\n",
    "# User Inputs\n",
    "month_day = int(input(\"Enter the number of days in the month: \"))\n",
    "x = int(input(\"Enter the number x: \"))\n",
    "\n",
    "# Check if month_day divides by x\n",
    "if month_day % x == 0:\n",
    "    print(f\"{month_day} divides by {x}\")\n",
    "else:\n",
    "    print(f\"{month_day} doesn't divide by {x}. The remainder is {month_day % x}.\")"
   ]
  }
 ],
 "metadata": {
  "kernelspec": {
   "display_name": "Python 3",
   "language": "python",
   "name": "python3"
  },
  "language_info": {
   "codemirror_mode": {
    "name": "ipython",
    "version": 3
   },
   "file_extension": ".py",
   "mimetype": "text/x-python",
   "name": "python",
   "nbconvert_exporter": "python",
   "pygments_lexer": "ipython3",
   "version": "3.12.3"
  }
 },
 "nbformat": 4,
 "nbformat_minor": 2
}
