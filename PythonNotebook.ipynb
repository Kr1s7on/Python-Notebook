{
 "cells": [
  {
   "cell_type": "markdown",
   "metadata": {},
   "source": [
    "# Introduction To Python"
   ]
  },
  {
   "cell_type": "markdown",
   "metadata": {},
   "source": [
    "Compiler translates high-level language program to a machine language program\n",
    "Used by C and C++"
   ]
  },
  {
   "cell_type": "markdown",
   "metadata": {},
   "source": [
    "Interpreter reads each individual instructions the the compiler compiles all of them\n",
    "Used by Ruby and Python"
   ]
  },
  {
   "cell_type": "markdown",
   "metadata": {},
   "source": [
    "Features of Python:\n",
    "- Object oriented\n",
    "- Imperative\n",
    "- General purpose language\n",
    "- Dynamically Typed\n",
    "- REPL (an interpreter)\n",
    "- Integrates easily with C and C++\n",
    "- Light-weight"
   ]
  },
  {
   "cell_type": "markdown",
   "metadata": {},
   "source": [
    "Three most common types of Bugs:\n",
    "\n",
    "- Syntax: Errors related to the incorrect syntax or structure of the code. These errors occur when the code violates the rules and conventions of the programming language.\n",
    "\n",
    "- Runtime: Errors that occur during the execution of the code. These errors are typically caused by unexpected conditions or inputs that the code cannot handle properly.\n",
    "\n",
    "- Semantic: Errors that occur when the code is logically incorrect or does not produce the expected results. These errors are often caused by mistakes in the algorithm or logic of the code."
   ]
  },
  {
   "cell_type": "markdown",
   "metadata": {},
   "source": [
    "print statement to print \"Hello World!\" to the console"
   ]
  },
  {
   "cell_type": "code",
   "execution_count": 1,
   "metadata": {},
   "outputs": [
    {
     "name": "stdout",
     "output_type": "stream",
     "text": [
      "Hello World!\n"
     ]
    }
   ],
   "source": [
    "print (\"Hello World!\")"
   ]
  },
  {
   "cell_type": "markdown",
   "metadata": {},
   "source": [
    "Either \"x\" or 'x' can be used to define a string in Python"
   ]
  },
  {
   "cell_type": "code",
   "execution_count": 2,
   "metadata": {},
   "outputs": [
    {
     "name": "stdout",
     "output_type": "stream",
     "text": [
      "Hello World!\n"
     ]
    }
   ],
   "source": [
    "print ('Hello World!')"
   ]
  },
  {
   "cell_type": "markdown",
   "metadata": {},
   "source": [
    "Including quotations"
   ]
  },
  {
   "cell_type": "code",
   "execution_count": 3,
   "metadata": {},
   "outputs": [
    {
     "name": "stdout",
     "output_type": "stream",
     "text": [
      "Hello \"World!\"\n"
     ]
    }
   ],
   "source": [
    "print ('Hello \"World!\"')"
   ]
  },
  {
   "cell_type": "markdown",
   "metadata": {},
   "source": [
    "\\n is used to add a new line"
   ]
  },
  {
   "cell_type": "code",
   "execution_count": 4,
   "metadata": {},
   "outputs": [
    {
     "name": "stdout",
     "output_type": "stream",
     "text": [
      "Hello \n",
      "World!\n"
     ]
    }
   ],
   "source": [
    "print (\"Hello \\nWorld!\")"
   ]
  },
  {
   "cell_type": "markdown",
   "metadata": {},
   "source": [
    "\\t is used to add a tab space"
   ]
  },
  {
   "cell_type": "code",
   "execution_count": 5,
   "metadata": {},
   "outputs": [
    {
     "name": "stdout",
     "output_type": "stream",
     "text": [
      "Hello \tWorld!\n"
     ]
    }
   ],
   "source": [
    "print (\"Hello \\tWorld!\")"
   ]
  },
  {
   "cell_type": "markdown",
   "metadata": {},
   "source": [
    "\\b is used to move the cursor one step back"
   ]
  },
  {
   "cell_type": "code",
   "execution_count": 6,
   "metadata": {},
   "outputs": [
    {
     "name": "stdout",
     "output_type": "stream",
     "text": [
      "HelloWorld!\n"
     ]
    }
   ],
   "source": [
    "print (\"Hello \\bWorld!\")"
   ]
  },
  {
   "cell_type": "markdown",
   "metadata": {},
   "source": [
    "\\r is used to move the cursor to the beginning of the line"
   ]
  },
  {
   "cell_type": "code",
   "execution_count": 14,
   "metadata": {},
   "outputs": [
    {
     "name": "stdout",
     "output_type": "stream",
     "text": [
      "World!\n"
     ]
    }
   ],
   "source": [
    "print (\"Hello \\rWorld!\")"
   ]
  },
  {
   "cell_type": "markdown",
   "metadata": {},
   "source": [
    "Types of variables: int, float, string, boolean"
   ]
  },
  {
   "cell_type": "code",
   "execution_count": 15,
   "metadata": {},
   "outputs": [
    {
     "name": "stdout",
     "output_type": "stream",
     "text": [
      "10\n",
      "3.14\n",
      "Hello World!\n",
      "True\n"
     ]
    }
   ],
   "source": [
    "# Example of int variable\n",
    "my_int = 10\n",
    "print(my_int)\n",
    "\n",
    "# Example of float variable\n",
    "my_float = 3.14\n",
    "print(my_float)\n",
    "\n",
    "# Example of string variable\n",
    "my_string = \"Hello World!\"\n",
    "print(my_string)\n",
    "\n",
    "# Example of boolean variable\n",
    "my_boolean = True\n",
    "print(my_boolean)"
   ]
  },
  {
   "cell_type": "markdown",
   "metadata": {},
   "source": [
    "Type conversion"
   ]
  },
  {
   "cell_type": "code",
   "execution_count": 9,
   "metadata": {},
   "outputs": [
    {
     "name": "stdout",
     "output_type": "stream",
     "text": [
      "10.0\n",
      "3\n",
      "10\n",
      "3.14\n",
      "10\n",
      "3.14\n",
      "True\n",
      "True\n"
     ]
    }
   ],
   "source": [
    "# int to float\n",
    "my_int = 10\n",
    "my_float = float(my_int)\n",
    "print(my_float)\n",
    "\n",
    "# float to int\n",
    "my_float = 3.14\n",
    "my_int = int(my_float)\n",
    "print(my_int)\n",
    "\n",
    "# int to string\n",
    "my_int = 10\n",
    "my_string = str(my_int)\n",
    "print(my_string)\n",
    "\n",
    "# float to string\n",
    "my_float = 3.14\n",
    "my_string = str(my_float)\n",
    "print(my_string)\n",
    "\n",
    "# string to int\n",
    "my_string = \"10\"\n",
    "my_int = int(my_string)\n",
    "print(my_int)\n",
    "\n",
    "# string to float\n",
    "my_string = \"3.14\"\n",
    "my_float = float(my_string)\n",
    "print(my_float)\n",
    "\n",
    "# string to boolean\n",
    "my_string = \"True\"\n",
    "my_boolean = bool(my_string)\n",
    "print(my_boolean)\n",
    "\n",
    "# boolean to string\n",
    "my_boolean = True\n",
    "my_string = str(my_boolean)\n",
    "print(my_string)"
   ]
  },
  {
   "cell_type": "markdown",
   "metadata": {},
   "source": [
    "Operators: Arithmetic, Comparison, Logical, Assignment"
   ]
  },
  {
   "cell_type": "markdown",
   "metadata": {},
   "source": [
    "Arithmetic Operators: +, -, *, /, %, **, //"
   ]
  },
  {
   "cell_type": "code",
   "execution_count": 2,
   "metadata": {},
   "outputs": [
    {
     "name": "stdout",
     "output_type": "stream",
     "text": [
      "15\n",
      "5\n",
      "50\n",
      "2.0\n",
      "0\n",
      "100000\n",
      "2\n"
     ]
    }
   ],
   "source": [
    "# Addition\n",
    "print (10 + 5)\n",
    "# Subtraction\n",
    "print (10 - 5)\n",
    "# Multiplication\n",
    "print (10 * 5)\n",
    "# Division\n",
    "print (10 / 5)\n",
    "# Modulus\n",
    "print (10 % 5)\n",
    "# Exponent\n",
    "print (10 ** 5)\n",
    "# Floor Division\n",
    "print (10 // 5)"
   ]
  },
  {
   "cell_type": "markdown",
   "metadata": {},
   "source": [
    "Comparison Operators: ==, !=, >, <, >=, <="
   ]
  },
  {
   "cell_type": "code",
   "execution_count": 3,
   "metadata": {},
   "outputs": [
    {
     "name": "stdout",
     "output_type": "stream",
     "text": [
      "False\n",
      "True\n",
      "True\n",
      "False\n",
      "True\n",
      "False\n"
     ]
    }
   ],
   "source": [
    "# Equal to\n",
    "print (10 == 5)\n",
    "# Not equal to\n",
    "print (10 != 5)\n",
    "# Greater than\n",
    "print (10 > 5)\n",
    "# Less than\n",
    "print (10 < 5)\n",
    "# Greater than or equal to\n",
    "print (10 >= 5)\n",
    "# Less than or equal to\n",
    "print (10 <= 5)"
   ]
  },
  {
   "cell_type": "markdown",
   "metadata": {},
   "source": [
    "Logical Operators: and, or, not"
   ]
  },
  {
   "cell_type": "code",
   "execution_count": 4,
   "metadata": {},
   "outputs": [
    {
     "name": "stdout",
     "output_type": "stream",
     "text": [
      "True\n",
      "True\n",
      "False\n"
     ]
    }
   ],
   "source": [
    "# and\n",
    "print (10 > 5 and 5 < 10)\n",
    "# or\n",
    "print (10 > 5 or 5 > 10)\n",
    "# not\n",
    "print (not 10 > 5)"
   ]
  },
  {
   "cell_type": "markdown",
   "metadata": {},
   "source": [
    "Assignment Operators: =, +=, -=, *=, /=, %=, **=, //="
   ]
  },
  {
   "cell_type": "code",
   "execution_count": 5,
   "metadata": {},
   "outputs": [
    {
     "name": "stdout",
     "output_type": "stream",
     "text": [
      "10\n",
      "15\n",
      "10\n",
      "50\n",
      "10.0\n",
      "0.0\n",
      "0.0\n",
      "0.0\n"
     ]
    }
   ],
   "source": [
    "# =\n",
    "x = 10\n",
    "print (x)\n",
    "# +=\n",
    "x += 5\n",
    "print (x)\n",
    "# -=\n",
    "x -= 5\n",
    "print (x)\n",
    "# *=\n",
    "x *= 5\n",
    "print (x)\n",
    "# /=\n",
    "x /= 5\n",
    "print (x)\n",
    "# %=\n",
    "x %= 5\n",
    "print (x)\n",
    "# **=\n",
    "x **= 5\n",
    "print (x)\n",
    "# //=\n",
    "x //= 5\n",
    "print (x)"
   ]
  },
  {
   "cell_type": "markdown",
   "metadata": {},
   "source": [
    "Conditional Statements: if, elif, else"
   ]
  },
  {
   "cell_type": "code",
   "execution_count": 6,
   "metadata": {},
   "outputs": [
    {
     "name": "stdout",
     "output_type": "stream",
     "text": [
      "x is greater than 5\n",
      "x is greater than 5\n",
      "x is greater than 5\n"
     ]
    }
   ],
   "source": [
    "# if\n",
    "x = 10\n",
    "if x > 5:\n",
    "    print (\"x is greater than 5\")\n",
    "\n",
    "# if else\n",
    "x = 10\n",
    "if x > 5:\n",
    "    print (\"x is greater than 5\")\n",
    "    \n",
    "else:\n",
    "    print (\"x is less than or equal to 5\")\n",
    "\n",
    "# if elif else\n",
    "x = 10\n",
    "if x > 5:\n",
    "    print (\"x is greater than 5\")\n",
    "\n",
    "elif x < 5:\n",
    "    print (\"x is less than 5\")\n",
    "\n",
    "else:\n",
    "    print (\"x is equal to 5\")"
   ]
  },
  {
   "cell_type": "markdown",
   "metadata": {},
   "source": [
    "Loops: for, while"
   ]
  },
  {
   "cell_type": "code",
   "execution_count": 7,
   "metadata": {},
   "outputs": [
    {
     "name": "stdout",
     "output_type": "stream",
     "text": [
      "0\n",
      "1\n",
      "2\n",
      "3\n",
      "4\n",
      "0\n",
      "1\n",
      "2\n",
      "3\n",
      "4\n"
     ]
    }
   ],
   "source": [
    "# for loop\n",
    "for i in range(5):\n",
    "    print (i)\n",
    "\n",
    "# while loop\n",
    "i = 0\n",
    "while i < 5:\n",
    "    print (i)\n",
    "    i += 1"
   ]
  },
  {
   "cell_type": "markdown",
   "metadata": {},
   "source": [
    "Functions"
   ]
  },
  {
   "cell_type": "code",
   "execution_count": 8,
   "metadata": {},
   "outputs": [
    {
     "name": "stdout",
     "output_type": "stream",
     "text": [
      "Hello World!\n"
     ]
    }
   ],
   "source": [
    "# Defining a function\n",
    "def my_function():\n",
    "    print (\"Hello World!\")\n",
    "\n",
    "# Calling a function\n",
    "my_function()"
   ]
  },
  {
   "cell_type": "markdown",
   "metadata": {},
   "source": [
    "More on functions"
   ]
  },
  {
   "cell_type": "code",
   "execution_count": 9,
   "metadata": {},
   "outputs": [
    {
     "name": "stdout",
     "output_type": "stream",
     "text": [
      "Hello World!\n",
      "Hello World!\n",
      "15\n",
      "10\n",
      "30\n",
      "15\n",
      "15\n",
      "30\n",
      "30\n",
      "50\n"
     ]
    }
   ],
   "source": [
    "# Function with parameters\n",
    "def my_function(x):\n",
    "    print (x)\n",
    "\n",
    "my_function(\"Hello World!\")\n",
    "\n",
    "# Function with return value\n",
    "def my_function(x):\n",
    "    return x\n",
    "\n",
    "print (my_function(\"Hello World!\"))\n",
    "\n",
    "# Function with multiple parameters\n",
    "def my_function(x, y):\n",
    "    return x + y\n",
    "\n",
    "print (my_function(10, 5))\n",
    "\n",
    "# Function with default parameter\n",
    "def my_function(x = 10):\n",
    "    return x\n",
    "\n",
    "print (my_function())\n",
    "\n",
    "# Function with variable number of arguments\n",
    "def my_function(*args):\n",
    "    return sum(args)\n",
    "\n",
    "print (my_function(10, 5, 15))\n",
    "\n",
    "# Function with keyword arguments\n",
    "def my_function(x, y):\n",
    "    return x + y\n",
    "\n",
    "print (my_function(x = 10, y = 5))\n",
    "\n",
    "# Function with keyword arguments and default parameter\n",
    "def my_function(x, y = 5):\n",
    "    return x + y\n",
    "\n",
    "print (my_function(x = 10))\n",
    "\n",
    "# Function with keyword arguments and variable number of arguments\n",
    "def my_function(x, *args):\n",
    "    return x + sum(args)\n",
    "\n",
    "print (my_function(10, 5, 15))\n",
    "\n",
    "# Function with keyword arguments and variable number of keyword arguments\n",
    "def my_function(x, **kwargs):\n",
    "    return x + sum(kwargs.values())\n",
    "\n",
    "print (my_function(10, y = 5, z = 15))\n",
    "\n",
    "# Function with keyword arguments, variable number of arguments and variable number of keyword arguments\n",
    "def my_function(x, *args, **kwargs):\n",
    "    return x + sum(args) + sum(kwargs.values())\n",
    "\n",
    "print (my_function(10, 5, 15, y = 5, z = 15))"
   ]
  }
 ],
 "metadata": {
  "kernelspec": {
   "display_name": "Python 3",
   "language": "python",
   "name": "python3"
  },
  "language_info": {
   "codemirror_mode": {
    "name": "ipython",
    "version": 3
   },
   "file_extension": ".py",
   "mimetype": "text/x-python",
   "name": "python",
   "nbconvert_exporter": "python",
   "pygments_lexer": "ipython3",
   "version": "3.12.3"
  }
 },
 "nbformat": 4,
 "nbformat_minor": 2
}
