{
 "cells": [
  {
   "cell_type": "markdown",
   "metadata": {},
   "source": [
    "## Week 11\n",
    "\n",
    "### Lists, Tuples and Dictionaries (Part A)"
   ]
  },
  {
   "cell_type": "markdown",
   "metadata": {},
   "source": [
    "### Lists\n",
    "\n",
    "- An ordered seq of mutable Python objects."
   ]
  },
  {
   "cell_type": "code",
   "execution_count": 5,
   "metadata": {},
   "outputs": [
    {
     "name": "stdout",
     "output_type": "stream",
     "text": [
      "[1, 2, 3, 4, 5, 6, 7, 8, 9]\n",
      "['red', 'green', 'blue', 'yellow', 'white', 'black']\n",
      "[1, 'red', 2, 'green', 3, 'blue', 4, 'yellow', 5, 'white', 6, 'black']\n",
      "[]\n"
     ]
    }
   ],
   "source": [
    "numbers = [1, 2, 3, 4, 5, 6, 7, 8, 9]   # numbers list\n",
    "\n",
    "colors = ['red', 'green', 'blue', 'yellow', 'white', 'black']   # colors list\n",
    "\n",
    "mixed = [1, 'red', 2, 'green', 3, 'blue', 4, 'yellow', 5, 'white', 6, 'black']  # mixed list\n",
    "\n",
    "empty = []  # empty list\n",
    "\n",
    "print(numbers, colors, mixed, empty, sep='\\n') # print lists"
   ]
  },
  {
   "cell_type": "markdown",
   "metadata": {},
   "source": [
    "- Repetition Operator\n",
    "- Makes multiple copies of a list using ‘*’"
   ]
  },
  {
   "cell_type": "code",
   "execution_count": 4,
   "metadata": {},
   "outputs": [
    {
     "name": "stdout",
     "output_type": "stream",
     "text": [
      "[9, 9, 9] [1, 2, 3, 1, 2, 3, 1, 2, 3]\n"
     ]
    }
   ],
   "source": [
    "numbers = [9] * 3  # create a list with 3 elements, all equal to 9\n",
    "\n",
    "mixed = [1, 2, 3] * 3  # create a list with 9 elements, 3 each of 1, 2, and 3\n",
    "\n",
    "print(numbers, mixed)  # print list"
   ]
  },
  {
   "cell_type": "markdown",
   "metadata": {},
   "source": [
    "- List are mutable, we can change an element of a list using the index operator\n"
   ]
  },
  {
   "cell_type": "code",
   "execution_count": 6,
   "metadata": {},
   "outputs": [
    {
     "name": "stdout",
     "output_type": "stream",
     "text": [
      "January February March\n"
     ]
    }
   ],
   "source": [
    "months = ['January', 'February', 'March', 'April', 'May', 'June', 'July', 'August', 'September', 'October', 'November', 'December']  # months list\n",
    "\n",
    "print(months[0], months[1], months[2])  # print first three months, zero index based"
   ]
  },
  {
   "cell_type": "markdown",
   "metadata": {},
   "source": [
    "- Concatenate lists using '+'\n",
    "- Can only concatenate list with another lists. A TypeError occurs when you concatenate a list with a non-list."
   ]
  },
  {
   "cell_type": "code",
   "execution_count": 7,
   "metadata": {},
   "outputs": [
    {
     "name": "stdout",
     "output_type": "stream",
     "text": [
      "[1, 2, 3, 4, 5, 6, 7, 8, 9, 10]\n"
     ]
    }
   ],
   "source": [
    "a = [1, 2, 3, 4, 5, 6]  # list a\n",
    "\n",
    "b = [7, 8, 9, 10]  # list b\n",
    "\n",
    "c = a + b  # concatenate lists a and b\n",
    "\n",
    "print(c)  # print concatenated list"
   ]
  },
  {
   "cell_type": "markdown",
   "metadata": {},
   "source": [
    "- Len function to measure the length of Lists"
   ]
  },
  {
   "cell_type": "code",
   "execution_count": 8,
   "metadata": {},
   "outputs": [
    {
     "data": {
      "text/plain": [
       "12"
      ]
     },
     "execution_count": 8,
     "metadata": {},
     "output_type": "execute_result"
    }
   ],
   "source": [
    "months = ['January', 'February', 'March', 'April', 'May', 'June', 'July', 'August', 'September', 'October', 'November', 'December']  # months list\n",
    "\n",
    "len(months)  # length of months list"
   ]
  },
  {
   "cell_type": "markdown",
   "metadata": {},
   "source": [
    "- List Slicing\n",
    "- list[start : end] # exclude the end"
   ]
  },
  {
   "cell_type": "code",
   "execution_count": 10,
   "metadata": {},
   "outputs": [
    {
     "name": "stdout",
     "output_type": "stream",
     "text": [
      "['January', 'February', 'March']\n",
      "['January', 'February']\n",
      "['March', 'April', 'May', 'June', 'July', 'August', 'September', 'October', 'November', 'December']\n"
     ]
    }
   ],
   "source": [
    "months = ['January', 'February', 'March', 'April', 'May', 'June', 'July', 'August', 'September', 'October', 'November', 'December']  # months list\n",
    "\n",
    "print(months[0:3])  # print first three months\n",
    "\n",
    "print(months[:2])   # print first two months\n",
    "\n",
    "print(months[2:])   # print all months starting from the third month"
   ]
  },
  {
   "cell_type": "markdown",
   "metadata": {},
   "source": [
    "### List Exercise 1\n",
    "\n",
    "- Create a shopping list program that ask user for their item they want to\n",
    "add to their shopping list. The program will add these items into a list\n",
    "and display all these items when the user type quit."
   ]
  },
  {
   "cell_type": "code",
   "execution_count": 1,
   "metadata": {},
   "outputs": [
    {
     "name": "stdout",
     "output_type": "stream",
     "text": [
      "Your shopping list:\n",
      "['orange', 'mango', 'milk', 'water', 'apples']\n"
     ]
    }
   ],
   "source": [
    "# Initialising a list\n",
    "shopping_list = []\n",
    "\n",
    "# Adding elements to the list\n",
    "while True:\n",
    "    item = input(\"Please enter the item you want to add into the shopping list, (Type 'q' to stop)): \")\n",
    "\n",
    "    if item == 'q': # if user enters 'q', program ends\n",
    "        break\n",
    "\n",
    "    shopping_list.append(item)  # Add the item to the shopping list\n",
    "\n",
    "# Displaying the final shopping list\n",
    "print(f\"Your shopping list:\\n{shopping_list}\")"
   ]
  },
  {
   "cell_type": "markdown",
   "metadata": {},
   "source": [
    "### List Exercise 2\n",
    "\n",
    "- Design a program that ask the user to enter a series of 10 numbers. Using the functions available to List.\n",
    "    - The program should store the numbers in a list and then display the following data:\n",
    "    - The lowest number in the list\n",
    "    - The highest number in the list\n",
    "    - The sum of the numbers in the list\n",
    "    - The average of the numbers in the list\n",
    "\n",
    "- Flow:\n",
    "    - Ask for number (repeat 10 times)\n",
    "    - From list: display smallest, largest, sum, avg"
   ]
  },
  {
   "cell_type": "code",
   "execution_count": 3,
   "metadata": {},
   "outputs": [
    {
     "name": "stderr",
     "output_type": "stream",
     "text": [
      "<>:10: SyntaxWarning: 'str' object is not callable; perhaps you missed a comma?\n",
      "<>:11: SyntaxWarning: 'str' object is not callable; perhaps you missed a comma?\n",
      "<>:12: SyntaxWarning: 'str' object is not callable; perhaps you missed a comma?\n",
      "<>:13: SyntaxWarning: 'str' object is not callable; perhaps you missed a comma?\n",
      "<>:10: SyntaxWarning: 'str' object is not callable; perhaps you missed a comma?\n",
      "<>:11: SyntaxWarning: 'str' object is not callable; perhaps you missed a comma?\n",
      "<>:12: SyntaxWarning: 'str' object is not callable; perhaps you missed a comma?\n",
      "<>:13: SyntaxWarning: 'str' object is not callable; perhaps you missed a comma?\n"
     ]
    },
    {
     "ename": "ValueError",
     "evalue": "invalid literal for int() with base 10: ''",
     "output_type": "error",
     "traceback": [
      "\u001b[1;31m---------------------------------------------------------------------------\u001b[0m",
      "\u001b[1;31mValueError\u001b[0m                                Traceback (most recent call last)",
      "Cell \u001b[1;32mIn[3], line 6\u001b[0m\n\u001b[0;32m      4\u001b[0m \u001b[38;5;66;03m# Loop 10 times\u001b[39;00m\n\u001b[0;32m      5\u001b[0m \u001b[38;5;28;01mfor\u001b[39;00m i \u001b[38;5;129;01min\u001b[39;00m \u001b[38;5;28mrange\u001b[39m(\u001b[38;5;241m10\u001b[39m):\n\u001b[1;32m----> 6\u001b[0m     number \u001b[38;5;241m=\u001b[39m \u001b[38;5;28;43mint\u001b[39;49m\u001b[43m(\u001b[49m\u001b[38;5;28;43minput\u001b[39;49m\u001b[43m(\u001b[49m\u001b[38;5;124;43m\"\u001b[39;49m\u001b[38;5;124;43mPlease enter a number: \u001b[39;49m\u001b[38;5;124;43m\"\u001b[39;49m\u001b[43m)\u001b[49m\u001b[43m)\u001b[49m  \u001b[38;5;66;03m# Get a number from the user\u001b[39;00m\n\u001b[0;32m      7\u001b[0m     number_list\u001b[38;5;241m.\u001b[39mappend(number)  \u001b[38;5;66;03m# Add number to number_list\u001b[39;00m\n\u001b[0;32m      9\u001b[0m \u001b[38;5;66;03m# Display the smallest, largest, sum, and average\u001b[39;00m\n",
      "\u001b[1;31mValueError\u001b[0m: invalid literal for int() with base 10: ''"
     ]
    }
   ],
   "source": [
    "# Initialise empty list\n",
    "number_list = []\n",
    "\n",
    "# Loop 10 times\n",
    "for i in range(10):\n",
    "    while True:\n",
    "        try:\n",
    "            number = int(input(\"Please enter a number: \"))  # Get a number from the user\n",
    "            break\n",
    "        except ValueError:  # If the input is not a number\n",
    "            print(\"Invalid input. Please enter a valid number.\")\n",
    "\n",
    "    number_list.append(number)  # Add number to number_list\n",
    "\n",
    "# Display the smallest, largest, sum, and average\n",
    "print(f\"The smallest number in the list is: {min(number_list)}\")\n",
    "print(f\"The largest number in the list is: {max(number_list)}\")\n",
    "print(f\"The sum of the numbers in the list is: {sum(number_list)}\")\n",
    "print(f\"The average of the numbers in the list is: {sum(number_list)/len(number_list)}\")\n"
   ]
  }
 ],
 "metadata": {
  "kernelspec": {
   "display_name": "Python 3",
   "language": "python",
   "name": "python3"
  },
  "language_info": {
   "codemirror_mode": {
    "name": "ipython",
    "version": 3
   },
   "file_extension": ".py",
   "mimetype": "text/x-python",
   "name": "python",
   "nbconvert_exporter": "python",
   "pygments_lexer": "ipython3",
   "version": "3.12.3"
  }
 },
 "nbformat": 4,
 "nbformat_minor": 2
}
